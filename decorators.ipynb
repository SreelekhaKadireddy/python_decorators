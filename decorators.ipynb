{
 "cells": [
  {
   "cell_type": "code",
   "execution_count": null,
   "id": "92a9a92e-1a17-49ed-8b4f-db0af7f661a3",
   "metadata": {},
   "outputs": [],
   "source": [
    "#decorator- a function that takes another fun as argument and return extended functionality"
   ]
  },
  {
   "cell_type": "code",
   "execution_count": 2,
   "id": "632cf0cb-6133-40bf-ac51-a9873d9d6993",
   "metadata": {},
   "outputs": [
    {
     "data": {
      "text/plain": [
       "'HELLO! GOOD MORNING'"
      ]
     },
     "execution_count": 2,
     "metadata": {},
     "output_type": "execute_result"
    }
   ],
   "source": [
    "#example1\n",
    "def change_upper(func):\n",
    "    def inner():\n",
    "        temp=func()\n",
    "        return temp.upper()\n",
    "    return inner\n",
    "@change_upper\n",
    "def func1():\n",
    "    return \"hello! good morning\"\n",
    "func1()\n",
    "    \n"
   ]
  },
  {
   "cell_type": "code",
   "execution_count": 3,
   "id": "4f5c80ce-f755-49af-9280-c50fcf6ef34f",
   "metadata": {},
   "outputs": [
    {
     "data": {
      "text/plain": [
       "'HELLO! GOOD MORNING'"
      ]
     },
     "execution_count": 3,
     "metadata": {},
     "output_type": "execute_result"
    }
   ],
   "source": [
    "#without using decorator(@)\n",
    "def change_upper(func):\n",
    "    def inner():\n",
    "        temp=func()\n",
    "        return temp.upper()\n",
    "    return inner\n",
    "#@change_upper\n",
    "def func1():\n",
    "    return \"hello! good morning\"\n",
    "x=change_upper(func1)\n",
    "x()"
   ]
  },
  {
   "cell_type": "code",
   "execution_count": 5,
   "id": "12e52c06-7b41-471e-81d2-65731791584e",
   "metadata": {},
   "outputs": [
    {
     "name": "stdout",
     "output_type": "stream",
     "text": [
      "5.0\n"
     ]
    },
    {
     "ename": "ZeroDivisionError",
     "evalue": "division by zero",
     "output_type": "error",
     "traceback": [
      "\u001b[1;31m---------------------------------------------------------------------------\u001b[0m",
      "\u001b[1;31mZeroDivisionError\u001b[0m                         Traceback (most recent call last)",
      "Cell \u001b[1;32mIn[5], line 5\u001b[0m\n\u001b[0;32m      3\u001b[0m     \u001b[38;5;28;01mreturn\u001b[39;00m a\u001b[38;5;241m/\u001b[39mb\n\u001b[0;32m      4\u001b[0m \u001b[38;5;28mprint\u001b[39m(div(\u001b[38;5;241m10\u001b[39m,\u001b[38;5;241m2\u001b[39m))\n\u001b[1;32m----> 5\u001b[0m \u001b[38;5;28mprint\u001b[39m(\u001b[43mdiv\u001b[49m\u001b[43m(\u001b[49m\u001b[38;5;241;43m10\u001b[39;49m\u001b[43m,\u001b[49m\u001b[38;5;241;43m0\u001b[39;49m\u001b[43m)\u001b[49m)\u001b[38;5;66;03m#zeroDivisionError\u001b[39;00m\n",
      "Cell \u001b[1;32mIn[5], line 3\u001b[0m, in \u001b[0;36mdiv\u001b[1;34m(a, b)\u001b[0m\n\u001b[0;32m      2\u001b[0m \u001b[38;5;28;01mdef\u001b[39;00m \u001b[38;5;21mdiv\u001b[39m(a,b):\n\u001b[1;32m----> 3\u001b[0m     \u001b[38;5;28;01mreturn\u001b[39;00m \u001b[43ma\u001b[49m\u001b[38;5;241;43m/\u001b[39;49m\u001b[43mb\u001b[49m\n",
      "\u001b[1;31mZeroDivisionError\u001b[0m: division by zero"
     ]
    }
   ],
   "source": [
    "#example2\n",
    "def div(a,b):\n",
    "    return a/b\n",
    "print(div(10,2))\n",
    "print(div(10,0))#zeroDivisionError"
   ]
  },
  {
   "cell_type": "code",
   "execution_count": 8,
   "id": "cc7cfe85-b858-4905-8eb3-573fc215c606",
   "metadata": {},
   "outputs": [
    {
     "name": "stdout",
     "output_type": "stream",
     "text": [
      "5.0\n",
      "division is not possible\n",
      "None\n"
     ]
    }
   ],
   "source": [
    "#example2 (use decorator to avoid zeroDivisionError)\n",
    "def error_free(func):\n",
    "    def inner(a,b):\n",
    "        if b==0:\n",
    "            print(\"division is not possible\")\n",
    "        else:\n",
    "             return func(a,b)\n",
    "    return inner\n",
    "@error_free\n",
    "def div(a,b):\n",
    "    return a/b\n",
    "print(div(10,2))\n",
    "print(div(10,0))#zeroDivisionError"
   ]
  },
  {
   "cell_type": "code",
   "execution_count": null,
   "id": "6897db58-9ec5-4038-a5b3-0dc5cbeab8eb",
   "metadata": {},
   "outputs": [],
   "source": []
  }
 ],
 "metadata": {
  "kernelspec": {
   "display_name": "Python 3 (ipykernel)",
   "language": "python",
   "name": "python3"
  },
  "language_info": {
   "codemirror_mode": {
    "name": "ipython",
    "version": 3
   },
   "file_extension": ".py",
   "mimetype": "text/x-python",
   "name": "python",
   "nbconvert_exporter": "python",
   "pygments_lexer": "ipython3",
   "version": "3.10.2"
  }
 },
 "nbformat": 4,
 "nbformat_minor": 5
}
